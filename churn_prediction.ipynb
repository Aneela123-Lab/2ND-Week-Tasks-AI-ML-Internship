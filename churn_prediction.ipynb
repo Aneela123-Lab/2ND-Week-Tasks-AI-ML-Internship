{
  "cells": [
    {
      "cell_type": "code",
      "execution_count": 14,
      "metadata": {},
      "outputs": [],
      "source": [
        "import pandas as pd\n",
        "from sklearn.model_selection import train_test_split,GridSearchCV\n",
        "from sklearn.pipeline import Pipeline\n",
        "from sklearn.compose import ColumnTransformer\n",
        "from sklearn.preprocessing import StandardScaler,OneHotEncoder\n",
        "from sklearn.linear_model import LogisticRegression\n",
        "from sklearn.ensemble import RandomForestClassifier\n",
        "from sklearn.metrics import classification_report,accuracy_score,roc_auc_score\n",
        "import joblib"
      ]
    },
    {
      "cell_type": "code",
      "execution_count": 2,
      "metadata": {},
      "outputs": [],
      "source": [
        "url = \"https://raw.githubusercontent.com/IBM/telco-customer-churn-on-icp4d/master/data/Telco-Customer-Churn.csv\"\n",
        "df = pd.read_csv(url)\n",
        "print(\"\ud83d\udd25 Dataset Shape:\", df.shape)\n",
        "print(\"\\n\ud83d\udcca First 5 Rows:\")\n",
        "print(df.head())\n",
        "\n",
        "print(\"\\n\ud83e\uddfe Data Info (dtypes, missing values):\")\n",
        "print(df.info())"
      ]
    },
    {
      "cell_type": "code",
      "execution_count": 3,
      "metadata": {},
      "outputs": [],
      "source": [
        "df['TotalCharges']=pd.to_numeric(df['TotalCharges'],errors=\"coerce\")\n",
        "df.dropna(inplace=True)\n",
        "df.drop('customerID',axis=1,inplace=True)\n",
        "df['Churn']=df['Churn'].map({'Yes':1,'No':0})\n",
        "print(df.shape)\n",
        "print(df.head(3))"
      ]
    },
    {
      "cell_type": "code",
      "execution_count": 4,
      "metadata": {},
      "outputs": [],
      "source": [
        "x=df.drop('Churn',axis=1)\n",
        "y=df['Churn']\n",
        "x_train,x_test,y_train,y_test=train_test_split(x,y,test_size=0.3,random_state=42,stratify=y)\n",
        "print(x_train.shape,x_test.shape)\n",
        "print(y_train.value_counts(normalize=True).map(lambda x: f\"{x:.1%}\"))"
      ]
    },
    {
      "cell_type": "code",
      "execution_count": 9,
      "metadata": {},
      "outputs": [],
      "source": [
        "numerical_features=x.select_dtypes(include=['int64','float64']).columns.tolist()\n",
        "categorical_features = x.select_dtypes(include=['object']).columns.tolist()\n",
        "print(numerical_features)\n",
        "print(categorical_features)"
      ]
    },
    {
      "cell_type": "code",
      "execution_count": 10,
      "metadata": {},
      "outputs": [],
      "source": [
        "preprocessor=ColumnTransformer(\n",
        "    transformers=[('num',StandardScaler(),numerical_features),\n",
        "                  ('cat',OneHotEncoder(),categorical_features)],\n",
        "                  remainder='passthrough'\n",
        ")"
      ]
    },
    {
      "cell_type": "code",
      "execution_count": 19,
      "metadata": {},
      "outputs": [],
      "source": [
        "model_pipeline=Pipeline([\n",
        "    ('preprocessor',preprocessor),\n",
        "    ('classifier',LogisticRegression(random_state=42,max_iter=1000))\n",
        "])\n",
        "\n",
        "#Training\n",
        "model_pipeline.fit(x_train,y_train)\n",
        "\n",
        "#Evaluate\n",
        "y_pred_lr=model_pipeline.predict(x_test)\n",
        "print(\"Random forest performance\")\n",
        "print(classification_report(y_test,y_pred_lr))"
      ]
    },
    {
      "cell_type": "code",
      "execution_count": 13,
      "metadata": {},
      "outputs": [],
      "source": [
        "rf_pipeline=Pipeline([\n",
        "    ('preprocessor',preprocessor),\n",
        "    ('classifier',RandomForestClassifier(random_state=42))\n",
        "])\n",
        "\n",
        "#Training\n",
        "rf_pipeline.fit(x_train,y_train)\n",
        "\n",
        "#Evaluate\n",
        "y_pred_rf=rf_pipeline.predict(x_test)\n",
        "print(\"Random forest performance\")\n",
        "print(classification_report(y_test,y_pred_rf))"
      ]
    },
    {
      "cell_type": "code",
      "execution_count": 20,
      "metadata": {},
      "outputs": [],
      "source": [
        "#Logistic Regression\n",
        "y_pred_lr=model_pipeline.predict(x_test)\n",
        "y_pred_proba_lr=model_pipeline.predict_proba(x_test)[:,1]\n",
        "# Random Forest\n",
        "y_pred_rf = rf_pipeline.predict(x_test)\n",
        "y_pred_proba_rf = rf_pipeline.predict_proba(x_test)[:, 1]\n",
        "\n",
        "# AUC scores\n",
        "auc_lr = roc_auc_score(y_test, y_pred_proba_lr)\n",
        "auc_rf = roc_auc_score(y_test, y_pred_rf)\n",
        "\n",
        "print(\"\ud83d\udcca Model Comparison\")\n",
        "print(f\"Logistic Regression AUC: {auc_lr:.4f}, Accuracy: {accuracy_score(y_test, y_pred_lr):.4f}\")\n",
        "print(f\"Random Forest AUC:      {auc_rf:.4f}, Accuracy: {accuracy_score(y_test, y_pred_rf):.4f}\")"
      ]
    },
    {
      "cell_type": "code",
      "execution_count": 23,
      "metadata": {},
      "outputs": [],
      "source": [
        "param_grid = {\n",
        "    'classifier__n_estimators': [100, 200],\n",
        "    'classifier__max_depth': [10, 15, None],\n",
        "    'classifier__min_samples_split': [2, 5],\n",
        "    'classifier__class_weight': ['balanced', None]\n",
        "}\n",
        "grid = GridSearchCV(\n",
        "    rf_pipeline,           # your Random Forest pipeline\n",
        "    param_grid,\n",
        "    cv=5,                  # 5-fold cross-validation\n",
        "    scoring='roc_auc',     # optimize for AUC\n",
        "    n_jobs=-1,\n",
        "    verbose=1\n",
        ")\n",
        "grid.fit(x_train,y_train)\n",
        "print(\"Best Parameters:\", grid.best_params_)\n",
        "print(\"Best Cross-Validation AUC:\", grid.best_score_.round(4))"
      ]
    },
    {
      "cell_type": "code",
      "execution_count": 24,
      "metadata": {},
      "outputs": [],
      "source": [
        "from sklearn.metrics import classification_report, roc_auc_score\n",
        "\n",
        "y_pred_best = grid.best_estimator_.predict(x_test)\n",
        "y_pred_proba_best = grid.best_estimator_.predict_proba(x_test)[:, 1]\n",
        "\n",
        "print(\"Final Model - Classification Report:\")\n",
        "print(classification_report(y_test, y_pred_best))\n",
        "\n",
        "print(f\"Final Test AUC: {roc_auc_score(y_test, y_pred_proba_best):.4f}\")"
      ]
    },
    {
      "cell_type": "code",
      "execution_count": 25,
      "metadata": {},
      "outputs": [],
      "source": [
        "import joblib\n",
        "joblib.dump(grid.best_estimator_, 'churn_prediction_pipeline.pkl')\n",
        "print(\"\ud83d\udcbe Model saved!\")"
      ]
    }
  ],
  "metadata": {
    "kernelspec": {
      "display_name": "Python [conda env:base] *",
      "language": "python",
      "name": "conda-base-py"
    },
    "language_info": {
      "codemirror_mode": {
        "name": "ipython",
        "version": 3
      },
      "file_extension": ".py",
      "mimetype": "text/x-python",
      "name": "python",
      "nbconvert_exporter": "python",
      "pygments_lexer": "ipython3",
      "version": "3.12.7"
    }
  },
  "nbformat": 4,
  "nbformat_minor": 4
}